{
 "cells": [
  {
   "cell_type": "code",
   "execution_count": 2,
   "metadata": {},
   "outputs": [],
   "source": [
    "import matplotlib.pyplot as plt\n",
    "import pandas as pd\n",
    "import numpy as np\n",
    "import seaborn as sns"
   ]
  },
  {
   "cell_type": "code",
   "execution_count": 5,
   "metadata": {},
   "outputs": [
    {
     "data": {
      "text/html": [
       "<div>\n",
       "<style scoped>\n",
       "    .dataframe tbody tr th:only-of-type {\n",
       "        vertical-align: middle;\n",
       "    }\n",
       "\n",
       "    .dataframe tbody tr th {\n",
       "        vertical-align: top;\n",
       "    }\n",
       "\n",
       "    .dataframe thead th {\n",
       "        text-align: right;\n",
       "    }\n",
       "</style>\n",
       "<table border=\"1\" class=\"dataframe\">\n",
       "  <thead>\n",
       "    <tr style=\"text-align: right;\">\n",
       "      <th></th>\n",
       "      <th>country</th>\n",
       "      <th>year</th>\n",
       "      <th>sex</th>\n",
       "      <th>age</th>\n",
       "      <th>suicides_no</th>\n",
       "      <th>population</th>\n",
       "      <th>suicides/100k pop</th>\n",
       "      <th>country-year</th>\n",
       "      <th>HDI for year</th>\n",
       "      <th>gdp_for_year ($)</th>\n",
       "      <th>gdp_per_capita ($)</th>\n",
       "      <th>generation</th>\n",
       "    </tr>\n",
       "  </thead>\n",
       "  <tbody>\n",
       "    <tr>\n",
       "      <th>0</th>\n",
       "      <td>Albania</td>\n",
       "      <td>1987</td>\n",
       "      <td>male</td>\n",
       "      <td>15-24 years</td>\n",
       "      <td>21</td>\n",
       "      <td>312900</td>\n",
       "      <td>6.71</td>\n",
       "      <td>Albania1987</td>\n",
       "      <td>NaN</td>\n",
       "      <td>2,156,624,900</td>\n",
       "      <td>796</td>\n",
       "      <td>Generation X</td>\n",
       "    </tr>\n",
       "    <tr>\n",
       "      <th>1</th>\n",
       "      <td>Albania</td>\n",
       "      <td>1987</td>\n",
       "      <td>male</td>\n",
       "      <td>35-54 years</td>\n",
       "      <td>16</td>\n",
       "      <td>308000</td>\n",
       "      <td>5.19</td>\n",
       "      <td>Albania1987</td>\n",
       "      <td>NaN</td>\n",
       "      <td>2,156,624,900</td>\n",
       "      <td>796</td>\n",
       "      <td>Silent</td>\n",
       "    </tr>\n",
       "    <tr>\n",
       "      <th>2</th>\n",
       "      <td>Albania</td>\n",
       "      <td>1987</td>\n",
       "      <td>female</td>\n",
       "      <td>15-24 years</td>\n",
       "      <td>14</td>\n",
       "      <td>289700</td>\n",
       "      <td>4.83</td>\n",
       "      <td>Albania1987</td>\n",
       "      <td>NaN</td>\n",
       "      <td>2,156,624,900</td>\n",
       "      <td>796</td>\n",
       "      <td>Generation X</td>\n",
       "    </tr>\n",
       "    <tr>\n",
       "      <th>3</th>\n",
       "      <td>Albania</td>\n",
       "      <td>1987</td>\n",
       "      <td>male</td>\n",
       "      <td>75+ years</td>\n",
       "      <td>1</td>\n",
       "      <td>21800</td>\n",
       "      <td>4.59</td>\n",
       "      <td>Albania1987</td>\n",
       "      <td>NaN</td>\n",
       "      <td>2,156,624,900</td>\n",
       "      <td>796</td>\n",
       "      <td>G.I. Generation</td>\n",
       "    </tr>\n",
       "    <tr>\n",
       "      <th>4</th>\n",
       "      <td>Albania</td>\n",
       "      <td>1987</td>\n",
       "      <td>male</td>\n",
       "      <td>25-34 years</td>\n",
       "      <td>9</td>\n",
       "      <td>274300</td>\n",
       "      <td>3.28</td>\n",
       "      <td>Albania1987</td>\n",
       "      <td>NaN</td>\n",
       "      <td>2,156,624,900</td>\n",
       "      <td>796</td>\n",
       "      <td>Boomers</td>\n",
       "    </tr>\n",
       "  </tbody>\n",
       "</table>\n",
       "</div>"
      ],
      "text/plain": [
       "   country  year     sex          age  suicides_no  population  \\\n",
       "0  Albania  1987    male  15-24 years           21      312900   \n",
       "1  Albania  1987    male  35-54 years           16      308000   \n",
       "2  Albania  1987  female  15-24 years           14      289700   \n",
       "3  Albania  1987    male    75+ years            1       21800   \n",
       "4  Albania  1987    male  25-34 years            9      274300   \n",
       "\n",
       "   suicides/100k pop country-year  HDI for year  gdp_for_year ($)   \\\n",
       "0               6.71  Albania1987           NaN      2,156,624,900   \n",
       "1               5.19  Albania1987           NaN      2,156,624,900   \n",
       "2               4.83  Albania1987           NaN      2,156,624,900   \n",
       "3               4.59  Albania1987           NaN      2,156,624,900   \n",
       "4               3.28  Albania1987           NaN      2,156,624,900   \n",
       "\n",
       "   gdp_per_capita ($)       generation  \n",
       "0                 796     Generation X  \n",
       "1                 796           Silent  \n",
       "2                 796     Generation X  \n",
       "3                 796  G.I. Generation  \n",
       "4                 796          Boomers  "
      ]
     },
     "execution_count": 5,
     "metadata": {},
     "output_type": "execute_result"
    }
   ],
   "source": [
    "a = pd.read_csv(\"C:\\\\Users\\kbc\\Desktop\\yazilim\\master.csv\")\n",
    "a.head()"
   ]
  },
  {
   "cell_type": "code",
   "execution_count": 10,
   "metadata": {},
   "outputs": [
    {
     "data": {
      "text/plain": [
       "Text(0.5, 1.0, 'global suicide trend')"
      ]
     },
     "execution_count": 10,
     "metadata": {},
     "output_type": "execute_result"
    },
    {
     "data": {
      "image/png": "[encoded data removed]",
      "text/plain": [
       "<Figure size 432x288 with 1 Axes>"
      ]
     },
     "metadata": {
      "needs_background": "light"
     },
     "output_type": "display_data"
    }
   ],
   "source": [
    "# Global Suicides(per 100K)-trend over time 1985-2016\n",
    "new = a.groupby('year').sum()\n",
    "new.reset_index(inplace=True)\n",
    "x= new.year\n",
    "y = new['suicides/100k pop']\n",
    "f = plt.figure()\n",
    "axes = f.add_axes([0.1,0.1,1.9,0.9])\n",
    "axes.bar(x,y)\n",
    "axes.set_xlabel('years')\n",
    "axes.set_ylabel('suicide per 100k')\n",
    "axes.set_title('global suicide trend')"
   ]
  },
  {
   "cell_type": "code",
   "execution_count": null,
   "metadata": {},
   "outputs": [],
   "source": []
  },
  {
   "cell_type": "code",
   "execution_count": null,
   "metadata": {},
   "outputs": [],
   "source": []
  },
  {
   "cell_type": "code",
   "execution_count": null,
   "metadata": {},
   "outputs": [],
   "source": []
  },
  {
   "cell_type": "code",
   "execution_count": null,
   "metadata": {},
   "outputs": [],
   "source": []
  },
  {
   "cell_type": "code",
   "execution_count": 141,
   "metadata": {},
   "outputs": [
    {
     "data": {
      "text/html": [
       "<div>\n",
       "<style scoped>\n",
       "    .dataframe tbody tr th:only-of-type {\n",
       "        vertical-align: middle;\n",
       "    }\n",
       "\n",
       "    .dataframe tbody tr th {\n",
       "        vertical-align: top;\n",
       "    }\n",
       "\n",
       "    .dataframe thead th {\n",
       "        text-align: right;\n",
       "    }\n",
       "</style>\n",
       "<table border=\"1\" class=\"dataframe\">\n",
       "  <thead>\n",
       "    <tr style=\"text-align: right;\">\n",
       "      <th></th>\n",
       "      <th>country</th>\n",
       "      <th>year</th>\n",
       "      <th>sex</th>\n",
       "      <th>age</th>\n",
       "      <th>suicides_no</th>\n",
       "      <th>population</th>\n",
       "      <th>suicides/100k pop</th>\n",
       "      <th>country-year</th>\n",
       "      <th>HDI for year</th>\n",
       "      <th>gdp_for_year ($)</th>\n",
       "      <th>gdp_per_capita ($)</th>\n",
       "      <th>generation</th>\n",
       "      <th>continent</th>\n",
       "    </tr>\n",
       "  </thead>\n",
       "  <tbody>\n",
       "    <tr>\n",
       "      <th>0</th>\n",
       "      <td>Albania</td>\n",
       "      <td>1987</td>\n",
       "      <td>male</td>\n",
       "      <td>15-24 years</td>\n",
       "      <td>21</td>\n",
       "      <td>312900</td>\n",
       "      <td>6.71</td>\n",
       "      <td>Albania1987</td>\n",
       "      <td>NaN</td>\n",
       "      <td>2,156,624,900</td>\n",
       "      <td>796</td>\n",
       "      <td>Generation X</td>\n",
       "      <td>Europa</td>\n",
       "    </tr>\n",
       "    <tr>\n",
       "      <th>1</th>\n",
       "      <td>Albania</td>\n",
       "      <td>1987</td>\n",
       "      <td>male</td>\n",
       "      <td>35-54 years</td>\n",
       "      <td>16</td>\n",
       "      <td>308000</td>\n",
       "      <td>5.19</td>\n",
       "      <td>Albania1987</td>\n",
       "      <td>NaN</td>\n",
       "      <td>2,156,624,900</td>\n",
       "      <td>796</td>\n",
       "      <td>Silent</td>\n",
       "      <td>Europa</td>\n",
       "    </tr>\n",
       "    <tr>\n",
       "      <th>2</th>\n",
       "      <td>Albania</td>\n",
       "      <td>1987</td>\n",
       "      <td>female</td>\n",
       "      <td>15-24 years</td>\n",
       "      <td>14</td>\n",
       "      <td>289700</td>\n",
       "      <td>4.83</td>\n",
       "      <td>Albania1987</td>\n",
       "      <td>NaN</td>\n",
       "      <td>2,156,624,900</td>\n",
       "      <td>796</td>\n",
       "      <td>Generation X</td>\n",
       "      <td>Europa</td>\n",
       "    </tr>\n",
       "    <tr>\n",
       "      <th>3</th>\n",
       "      <td>Albania</td>\n",
       "      <td>1987</td>\n",
       "      <td>male</td>\n",
       "      <td>75+ years</td>\n",
       "      <td>1</td>\n",
       "      <td>21800</td>\n",
       "      <td>4.59</td>\n",
       "      <td>Albania1987</td>\n",
       "      <td>NaN</td>\n",
       "      <td>2,156,624,900</td>\n",
       "      <td>796</td>\n",
       "      <td>G.I. Generation</td>\n",
       "      <td>Europa</td>\n",
       "    </tr>\n",
       "    <tr>\n",
       "      <th>4</th>\n",
       "      <td>Albania</td>\n",
       "      <td>1987</td>\n",
       "      <td>male</td>\n",
       "      <td>25-34 years</td>\n",
       "      <td>9</td>\n",
       "      <td>274300</td>\n",
       "      <td>3.28</td>\n",
       "      <td>Albania1987</td>\n",
       "      <td>NaN</td>\n",
       "      <td>2,156,624,900</td>\n",
       "      <td>796</td>\n",
       "      <td>Boomers</td>\n",
       "      <td>Europa</td>\n",
       "    </tr>\n",
       "  </tbody>\n",
       "</table>\n",
       "</div>"
      ],
      "text/plain": [
       "   country  year     sex          age  suicides_no  population  \\\n",
       "0  Albania  1987    male  15-24 years           21      312900   \n",
       "1  Albania  1987    male  35-54 years           16      308000   \n",
       "2  Albania  1987  female  15-24 years           14      289700   \n",
       "3  Albania  1987    male    75+ years            1       21800   \n",
       "4  Albania  1987    male  25-34 years            9      274300   \n",
       "\n",
       "   suicides/100k pop country-year  HDI for year  gdp_for_year ($)   \\\n",
       "0               6.71  Albania1987           NaN      2,156,624,900   \n",
       "1               5.19  Albania1987           NaN      2,156,624,900   \n",
       "2               4.83  Albania1987           NaN      2,156,624,900   \n",
       "3               4.59  Albania1987           NaN      2,156,624,900   \n",
       "4               3.28  Albania1987           NaN      2,156,624,900   \n",
       "\n",
       "   gdp_per_capita ($)       generation continent  \n",
       "0                 796     Generation X    Europa  \n",
       "1                 796           Silent    Europa  \n",
       "2                 796     Generation X    Europa  \n",
       "3                 796  G.I. Generation    Europa  \n",
       "4                 796          Boomers    Europa  "
      ]
     },
     "execution_count": 141,
     "metadata": {},
     "output_type": "execute_result"
    }
   ],
   "source": [
    "# Global Suicides(per 100K) by Continent\n",
    "\n",
    "Europa=['Albania', 'Belarus','Spain','Croatia', 'Hungary','San Marino', 'Serbia',\n",
    "        'Poland', 'Slovakia', 'Slovenia', 'Norway', 'United Kingdom', 'Sweden', 'Switzerland',\n",
    "        'Montenegro', 'Netherlands', 'Portugal', 'Belgium', 'Italy', 'Georgia', 'Bulgaria', \n",
    "        'Iceland', 'Ireland', 'Malta', 'Latvia', 'Lithuania', 'Kyrgyzstan', 'Germany', 'Greece', \n",
    "        'Luxembourg', 'Austria', 'Bosnia and Herzegovina', 'Finland', 'France', 'Cyprus', 'Czech Republic', \n",
    "        'Denmark', 'Estonia']\n",
    "Asia=[\"Armenia\", 'Japan', 'Bahrain', 'Macau' , 'Maldives' , 'Thailand' , 'Mongolia' , 'Uruguay' , 'Oman'\n",
    "          , 'Singap,e' , 'Paraguay' , 'Kuwait' , 'Turkey' , 'Azerbaijan' , 'Turkmenistan' , 'Qatar' ,\n",
    "          'Philippines' , 'Romania' , 'Israel' , 'Kazakhstan' , 'Uzbekistan' , 'Russian Federation'\n",
    "          , 'Republic of Korea' , 'Ukraine' , 'United Arab Emirates']\n",
    "NAmerica=[\"Canada\" , 'Bahamas' , 'United States' , 'Guatemala']\n",
    "Africa=['South Africa' , 'Sri Lanka' , 'Seychelles' , 'Mauritius' , 'Cabo Verde' , 'Suriname' , 'Jamaica']\n",
    "Australia=['New Zealand' ,  'Australia' , 'Fiji']\n",
    "SAmerica=['Antigua and Barbuda' , 'Trinidad and Tobago' , 'Kiribati' , 'Saint Kitts and Nevis' , 'Grenada' , \n",
    "          'Belize' , 'Barbados' , 'Nicaragua' , 'Guyana' , 'Dominica' , 'Ecuad,' , 'El Salvad,' ,\n",
    "          'Mexico' ,'Panama' , 'Saint Lucia' , 'Saint Vincent and Grenadines' , 'Puerto Rico' , 'Cuba' , \n",
    "          'Argentina' , 'Brazil' , 'Chile' , 'Colombia' , 'Costa Rica']  \n",
    "\n",
    "def cont(x):\n",
    "    if x in Europa:\n",
    "        return 'Europa'\n",
    "    elif x in Asia:\n",
    "        return 'Asia'\n",
    "    elif x in NAmerica:\n",
    "        return 'N.America'\n",
    "    elif x in Africa:\n",
    "        return 'Africa'\n",
    "    elif x in Australia:\n",
    "        return 'Australia'\n",
    "    elif x in SAmerica :\n",
    "        return 'S.America'\n",
    "\n",
    "a[\"continent\"] = a[\"country\"].apply(cont)\n",
    "a.head(5)"
   ]
  },
  {
   "cell_type": "code",
   "execution_count": 148,
   "metadata": {},
   "outputs": [
    {
     "data": {
      "image/png": "[encoded data removed]",
      "text/plain": [
       "<Figure size 432x288 with 1 Axes>"
      ]
     },
     "metadata": {
      "needs_background": "light"
     },
     "output_type": "display_data"
    }
   ],
   "source": [
    "new = a.groupby('continent').sum().sort_values(by='suicides/100k pop')\n",
    "new.reset_index(inplace=True)\n",
    "x= new.continent\n",
    "y = new['suicides/100k pop']\n",
    "plt.bar(x,y)\n",
    "plt.show()"
   ]
  },
  {
   "cell_type": "code",
   "execution_count": null,
   "metadata": {},
   "outputs": [],
   "source": []
  },
  {
   "cell_type": "code",
   "execution_count": null,
   "metadata": {},
   "outputs": [],
   "source": []
  },
  {
   "cell_type": "code",
   "execution_count": 84,
   "metadata": {},
   "outputs": [
    {
     "data": {
      "text/plain": [
       "Text(0.5, 1.0, 'Global Suicides(per 100k) by Gender and trend over time 1985-2016')"
      ]
     },
     "execution_count": 84,
     "metadata": {},
     "output_type": "execute_result"
    },
    {
     "data": {
      "image/png": "[encoded data removed]",
      "text/plain": [
       "<Figure size 864x432 with 1 Axes>"
      ]
     },
     "metadata": {
      "needs_background": "light"
     },
     "output_type": "display_data"
    }
   ],
   "source": [
    "# Global Suicides(per 100k) by Gender and trend over time 1985-2016\n",
    "\n",
    "x = np.arange(32) \n",
    "width = 0.35 \n",
    "fig, ax = plt.subplots()\n",
    "fig.set_size_inches(12, 6)\n",
    "\n",
    "rects1 = ax.bar(x - width/2, new2.male, width, label='Men')\n",
    "rects2 = ax.bar(x + width/2, new2.female, width, label='Women')\n",
    "plt.xlabel('sex')\n",
    "plt.ylabel('suicide num.')\n",
    "plt.title('Global Suicides(per 100k) by Gender and trend over time 1985-2016')\n"
   ]
  },
  {
   "cell_type": "code",
   "execution_count": 49,
   "metadata": {},
   "outputs": [
    {
     "data": {
      "text/html": [
       "<div>\n",
       "<style scoped>\n",
       "    .dataframe tbody tr th:only-of-type {\n",
       "        vertical-align: middle;\n",
       "    }\n",
       "\n",
       "    .dataframe tbody tr th {\n",
       "        vertical-align: top;\n",
       "    }\n",
       "\n",
       "    .dataframe thead th {\n",
       "        text-align: right;\n",
       "    }\n",
       "</style>\n",
       "<table border=\"1\" class=\"dataframe\">\n",
       "  <thead>\n",
       "    <tr style=\"text-align: right;\">\n",
       "      <th></th>\n",
       "      <th>gdp_per_capita ($)</th>\n",
       "      <th>population</th>\n",
       "      <th>country-year</th>\n",
       "    </tr>\n",
       "  </thead>\n",
       "  <tbody>\n",
       "    <tr>\n",
       "      <th>11308</th>\n",
       "      <td>3076</td>\n",
       "      <td>67457</td>\n",
       "      <td>Guyana2009</td>\n",
       "    </tr>\n",
       "    <tr>\n",
       "      <th>8549</th>\n",
       "      <td>18545</td>\n",
       "      <td>95987</td>\n",
       "      <td>Estonia2011</td>\n",
       "    </tr>\n",
       "    <tr>\n",
       "      <th>6699</th>\n",
       "      <td>2472</td>\n",
       "      <td>814728</td>\n",
       "      <td>Cuba1997</td>\n",
       "    </tr>\n",
       "    <tr>\n",
       "      <th>20909</th>\n",
       "      <td>10526</td>\n",
       "      <td>2812215</td>\n",
       "      <td>Romania2014</td>\n",
       "    </tr>\n",
       "    <tr>\n",
       "      <th>15955</th>\n",
       "      <td>10575</td>\n",
       "      <td>29000</td>\n",
       "      <td>Malta1997</td>\n",
       "    </tr>\n",
       "    <tr>\n",
       "      <th>13437</th>\n",
       "      <td>30688</td>\n",
       "      <td>3912000</td>\n",
       "      <td>Japan1991</td>\n",
       "    </tr>\n",
       "    <tr>\n",
       "      <th>7895</th>\n",
       "      <td>2160</td>\n",
       "      <td>140505</td>\n",
       "      <td>Ecuador2001</td>\n",
       "    </tr>\n",
       "    <tr>\n",
       "      <th>677</th>\n",
       "      <td>7615</td>\n",
       "      <td>678000</td>\n",
       "      <td>Argentina1992</td>\n",
       "    </tr>\n",
       "    <tr>\n",
       "      <th>24609</th>\n",
       "      <td>56531</td>\n",
       "      <td>1251142</td>\n",
       "      <td>Sweden2007</td>\n",
       "    </tr>\n",
       "    <tr>\n",
       "      <th>14430</th>\n",
       "      <td>35171</td>\n",
       "      <td>237315</td>\n",
       "      <td>Kuwait2010</td>\n",
       "    </tr>\n",
       "    <tr>\n",
       "      <th>2485</th>\n",
       "      <td>30122</td>\n",
       "      <td>16236</td>\n",
       "      <td>Bahamas2001</td>\n",
       "    </tr>\n",
       "    <tr>\n",
       "      <th>7947</th>\n",
       "      <td>3759</td>\n",
       "      <td>1105682</td>\n",
       "      <td>Ecuador2006</td>\n",
       "    </tr>\n",
       "    <tr>\n",
       "      <th>11376</th>\n",
       "      <td>3970</td>\n",
       "      <td>178482</td>\n",
       "      <td>Hungary1992</td>\n",
       "    </tr>\n",
       "    <tr>\n",
       "      <th>10712</th>\n",
       "      <td>1044</td>\n",
       "      <td>1184961</td>\n",
       "      <td>Guatemala1986</td>\n",
       "    </tr>\n",
       "    <tr>\n",
       "      <th>21764</th>\n",
       "      <td>4723</td>\n",
       "      <td>1270</td>\n",
       "      <td>Saint Vincent and Grenadines2002</td>\n",
       "    </tr>\n",
       "    <tr>\n",
       "      <th>13630</th>\n",
       "      <td>37408</td>\n",
       "      <td>16557000</td>\n",
       "      <td>Japan2007</td>\n",
       "    </tr>\n",
       "    <tr>\n",
       "      <th>24278</th>\n",
       "      <td>6397</td>\n",
       "      <td>44452</td>\n",
       "      <td>Suriname2007</td>\n",
       "    </tr>\n",
       "    <tr>\n",
       "      <th>10071</th>\n",
       "      <td>8310</td>\n",
       "      <td>697700</td>\n",
       "      <td>Greece1989</td>\n",
       "    </tr>\n",
       "    <tr>\n",
       "      <th>4289</th>\n",
       "      <td>3925</td>\n",
       "      <td>13479427</td>\n",
       "      <td>Brazil1994</td>\n",
       "    </tr>\n",
       "    <tr>\n",
       "      <th>4764</th>\n",
       "      <td>2800</td>\n",
       "      <td>583953</td>\n",
       "      <td>Bulgaria2003</td>\n",
       "    </tr>\n",
       "  </tbody>\n",
       "</table>\n",
       "</div>"
      ],
      "text/plain": [
       "       gdp_per_capita ($)  population                      country-year\n",
       "11308                3076       67457                        Guyana2009\n",
       "8549                18545       95987                       Estonia2011\n",
       "6699                 2472      814728                          Cuba1997\n",
       "20909               10526     2812215                       Romania2014\n",
       "15955               10575       29000                         Malta1997\n",
       "13437               30688     3912000                         Japan1991\n",
       "7895                 2160      140505                       Ecuador2001\n",
       "677                  7615      678000                     Argentina1992\n",
       "24609               56531     1251142                        Sweden2007\n",
       "14430               35171      237315                        Kuwait2010\n",
       "2485                30122       16236                       Bahamas2001\n",
       "7947                 3759     1105682                       Ecuador2006\n",
       "11376                3970      178482                       Hungary1992\n",
       "10712                1044     1184961                     Guatemala1986\n",
       "21764                4723        1270  Saint Vincent and Grenadines2002\n",
       "13630               37408    16557000                         Japan2007\n",
       "24278                6397       44452                      Suriname2007\n",
       "10071                8310      697700                        Greece1989\n",
       "4289                 3925    13479427                        Brazil1994\n",
       "4764                 2800      583953                      Bulgaria2003"
      ]
     },
     "execution_count": 49,
     "metadata": {},
     "output_type": "execute_result"
    },
    {
     "data": {
      "image/png": "[encoded data removed]",
      "text/plain": [
       "<Figure size 432x288 with 1 Axes>"
      ]
     },
     "metadata": {
      "needs_background": "light"
     },
     "output_type": "display_data"
    }
   ],
   "source": [
    "# Population-gdp_per_capita Plot\n",
    "\n",
    "\n",
    "plt.plot(a['gdp_per_capita ($)'])\n",
    "a[['gdp_per_capita ($)','population','country-year']].sort_values(by='population').sample(20)\n"
   ]
  },
  {
   "cell_type": "code",
   "execution_count": null,
   "metadata": {},
   "outputs": [],
   "source": []
  },
  {
   "cell_type": "code",
   "execution_count": 118,
   "metadata": {},
   "outputs": [
    {
     "data": {
      "text/plain": [
       "<AxesSubplot:ylabel='Frequency'>"
      ]
     },
     "execution_count": 118,
     "metadata": {},
     "output_type": "execute_result"
    },
    {
     "data": {
      "image/png": "[encoded data removed]",
      "text/plain": [
       "<Figure size 432x288 with 1 Axes>"
      ]
     },
     "metadata": {
      "needs_background": "light"
     },
     "output_type": "display_data"
    }
   ],
   "source": [
    "a.plot.hist(x='population',y='gdp_per_capita ($)')"
   ]
  },
  {
   "cell_type": "code",
   "execution_count": null,
   "metadata": {},
   "outputs": [],
   "source": []
  },
  {
   "cell_type": "code",
   "execution_count": null,
   "metadata": {},
   "outputs": [],
   "source": []
  },
  {
   "cell_type": "code",
   "execution_count": null,
   "metadata": {},
   "outputs": [],
   "source": []
  },
  {
   "cell_type": "code",
   "execution_count": null,
   "metadata": {},
   "outputs": [],
   "source": []
  },
  {
   "cell_type": "code",
   "execution_count": 139,
   "metadata": {},
   "outputs": [
    {
     "data": {
      "text/plain": [
       "<AxesSubplot:>"
      ]
     },
     "execution_count": 139,
     "metadata": {},
     "output_type": "execute_result"
    },
    {
     "data": {
      "image/png": "[encoded data removed]",
      "text/plain": [
       "<Figure size 432x288 with 2 Axes>"
      ]
     },
     "metadata": {
      "needs_background": "light"
     },
     "output_type": "display_data"
    }
   ],
   "source": [
    "# Correlation between GDP(per Capita) and suicides per 100k\n",
    "\n",
    "\n",
    "plt.subplots()\n",
    "sns.heatmap(a[a.year!=2016].corr(), annot = True)\n"
   ]
  },
  {
   "cell_type": "code",
   "execution_count": null,
   "metadata": {},
   "outputs": [],
   "source": []
  },
  {
   "cell_type": "code",
   "execution_count": null,
   "metadata": {},
   "outputs": [],
   "source": []
  },
  {
   "cell_type": "code",
   "execution_count": null,
   "metadata": {},
   "outputs": [],
   "source": []
  },
  {
   "cell_type": "code",
   "execution_count": 131,
   "metadata": {},
   "outputs": [
    {
     "data": {
      "text/html": [
       "<div>\n",
       "<style scoped>\n",
       "    .dataframe tbody tr th:only-of-type {\n",
       "        vertical-align: middle;\n",
       "    }\n",
       "\n",
       "    .dataframe tbody tr th {\n",
       "        vertical-align: top;\n",
       "    }\n",
       "\n",
       "    .dataframe thead th {\n",
       "        text-align: right;\n",
       "    }\n",
       "</style>\n",
       "<table border=\"1\" class=\"dataframe\">\n",
       "  <thead>\n",
       "    <tr style=\"text-align: right;\">\n",
       "      <th></th>\n",
       "      <th>age</th>\n",
       "      <th>year</th>\n",
       "      <th>suicides_no</th>\n",
       "      <th>population</th>\n",
       "      <th>suicides/100k pop</th>\n",
       "      <th>HDI for year</th>\n",
       "      <th>gdp_per_capita ($)</th>\n",
       "    </tr>\n",
       "  </thead>\n",
       "  <tbody>\n",
       "    <tr>\n",
       "      <th>3</th>\n",
       "      <td>5-14 years</td>\n",
       "      <td>9225408</td>\n",
       "      <td>52264</td>\n",
       "      <td>8398693237</td>\n",
       "      <td>2858.39</td>\n",
       "      <td>1082.582</td>\n",
       "      <td>77519770</td>\n",
       "    </tr>\n",
       "    <tr>\n",
       "      <th>0</th>\n",
       "      <td>15-24 years</td>\n",
       "      <td>9289920</td>\n",
       "      <td>808542</td>\n",
       "      <td>8642946896</td>\n",
       "      <td>41532.69</td>\n",
       "      <td>1082.582</td>\n",
       "      <td>78341054</td>\n",
       "    </tr>\n",
       "    <tr>\n",
       "      <th>1</th>\n",
       "      <td>25-34 years</td>\n",
       "      <td>9289920</td>\n",
       "      <td>1123912</td>\n",
       "      <td>8438103587</td>\n",
       "      <td>56571.52</td>\n",
       "      <td>1082.582</td>\n",
       "      <td>78341054</td>\n",
       "    </tr>\n",
       "    <tr>\n",
       "      <th>2</th>\n",
       "      <td>35-54 years</td>\n",
       "      <td>9289920</td>\n",
       "      <td>2452141</td>\n",
       "      <td>14375888123</td>\n",
       "      <td>69386.02</td>\n",
       "      <td>1082.582</td>\n",
       "      <td>78341054</td>\n",
       "    </tr>\n",
       "    <tr>\n",
       "      <th>4</th>\n",
       "      <td>55-74 years</td>\n",
       "      <td>9289920</td>\n",
       "      <td>1658443</td>\n",
       "      <td>8803245340</td>\n",
       "      <td>74994.20</td>\n",
       "      <td>1082.582</td>\n",
       "      <td>78341054</td>\n",
       "    </tr>\n",
       "    <tr>\n",
       "      <th>5</th>\n",
       "      <td>75+ years</td>\n",
       "      <td>9289920</td>\n",
       "      <td>653118</td>\n",
       "      <td>2663281253</td>\n",
       "      <td>111201.01</td>\n",
       "      <td>1082.582</td>\n",
       "      <td>78341054</td>\n",
       "    </tr>\n",
       "  </tbody>\n",
       "</table>\n",
       "</div>"
      ],
      "text/plain": [
       "           age     year  suicides_no   population  suicides/100k pop  \\\n",
       "3   5-14 years  9225408        52264   8398693237            2858.39   \n",
       "0  15-24 years  9289920       808542   8642946896           41532.69   \n",
       "1  25-34 years  9289920      1123912   8438103587           56571.52   \n",
       "2  35-54 years  9289920      2452141  14375888123           69386.02   \n",
       "4  55-74 years  9289920      1658443   8803245340           74994.20   \n",
       "5    75+ years  9289920       653118   2663281253          111201.01   \n",
       "\n",
       "   HDI for year  gdp_per_capita ($)  \n",
       "3      1082.582            77519770  \n",
       "0      1082.582            78341054  \n",
       "1      1082.582            78341054  \n",
       "2      1082.582            78341054  \n",
       "4      1082.582            78341054  \n",
       "5      1082.582            78341054  "
      ]
     },
     "execution_count": 131,
     "metadata": {},
     "output_type": "execute_result"
    },
    {
     "data": {
      "image/png": "[encoded data removed]",
      "text/plain": [
       "<Figure size 432x288 with 1 Axes>"
      ]
     },
     "metadata": {
      "needs_background": "light"
     },
     "output_type": "display_data"
    }
   ],
   "source": [
    "# Which age of people suicide a most\n",
    "b=a.groupby('age').sum().reset_index().sort_values(by='suicides/100k pop')\n",
    "x= b.age\n",
    "y = b['suicides/100k pop']\n",
    "f = plt.figure()\n",
    "axes = f.add_axes([0.1,0.1,0.9,0.9])\n",
    "axes.bar(x,y)\n",
    "axes.set_xlabel('age')\n",
    "axes.set_ylabel('suicide per 100k')\n",
    "axes.set_title('suicide no by age')"
   ]
  },
  {
   "cell_type": "code",
   "execution_count": null,
   "metadata": {},
   "outputs": [],
   "source": []
  },
  {
   "cell_type": "code",
   "execution_count": null,
   "metadata": {},
   "outputs": [],
   "source": []
  },
  {
   "cell_type": "code",
   "execution_count": null,
   "metadata": {},
   "outputs": [],
   "source": []
  },
  {
   "cell_type": "code",
   "execution_count": null,
   "metadata": {},
   "outputs": [],
   "source": []
  },
  {
   "cell_type": "code",
   "execution_count": 134,
   "metadata": {},
   "outputs": [
    {
     "data": {
      "text/plain": [
       "Text(0.5, 1.0, 'suicide no by age')"
      ]
     },
     "execution_count": 134,
     "metadata": {},
     "output_type": "execute_result"
    },
    {
     "data": {
      "image/png": "[encoded data removed]",
      "text/plain": [
       "<Figure size 432x288 with 1 Axes>"
      ]
     },
     "metadata": {
      "needs_background": "light"
     },
     "output_type": "display_data"
    }
   ],
   "source": [
    "# Which generation of people suicide a most\n",
    "b=a.groupby('generation').sum().reset_index().sort_values(by='suicides/100k pop')\n",
    "x= b.generation\n",
    "y = b['suicides/100k pop']\n",
    "f = plt.figure()\n",
    "axes = f.add_axes([0.1,0.1,0.9,0.9])\n",
    "axes.bar(x,y)\n",
    "axes.set_xlabel('generation')\n",
    "axes.set_ylabel('suicide per 100k')\n",
    "axes.set_title('suicide no by age')\n"
   ]
  },
  {
   "cell_type": "code",
   "execution_count": null,
   "metadata": {},
   "outputs": [],
   "source": []
  },
  {
   "cell_type": "code",
   "execution_count": null,
   "metadata": {},
   "outputs": [],
   "source": []
  },
  {
   "cell_type": "code",
   "execution_count": null,
   "metadata": {},
   "outputs": [],
   "source": []
  },
  {
   "cell_type": "code",
   "execution_count": null,
   "metadata": {},
   "outputs": [],
   "source": []
  },
  {
   "cell_type": "code",
   "execution_count": null,
   "metadata": {},
   "outputs": [],
   "source": []
  },
  {
   "cell_type": "code",
   "execution_count": 147,
   "metadata": {},
   "outputs": [
    {
     "data": {
      "text/plain": [
       "Text(0.5, 1.0, 'Gender vs Suicides')"
      ]
     },
     "execution_count": 147,
     "metadata": {},
     "output_type": "execute_result"
    },
    {
     "data": {
      "image/png": "[encoded data removed]",
      "text/plain": [
       "<Figure size 1224x360 with 1 Axes>"
      ]
     },
     "metadata": {
      "needs_background": "light"
     },
     "output_type": "display_data"
    }
   ],
   "source": [
    "# Generation hue Gender Counter\n",
    "plt.figure(figsize=(17,5))\n",
    "\n",
    "sns.barplot(x = \"generation\", y = \"suicides/100k pop\", hue = \"sex\",data = a.groupby([\"generation\",\"sex\"]).sum().reset_index()).set_title(\"Gender vs Suicides\")\n"
   ]
  },
  {
   "cell_type": "code",
   "execution_count": null,
   "metadata": {},
   "outputs": [],
   "source": []
  }
 ],
 "metadata": {
  "kernelspec": {
   "display_name": "Python 3",
   "language": "python",
   "name": "python3"
  },
  "language_info": {
   "codemirror_mode": {
    "name": "ipython",
    "version": 3
   },
   "file_extension": ".py",
   "mimetype": "text/x-python",
   "name": "python",
   "nbconvert_exporter": "python",
   "pygments_lexer": "ipython3",
   "version": "3.8.5"
  }
 },
 "nbformat": 4,
 "nbformat_minor": 4
}
